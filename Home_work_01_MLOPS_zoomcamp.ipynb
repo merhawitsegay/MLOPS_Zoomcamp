{
 "cells": [
  {
   "cell_type": "markdown",
   "id": "3b012ffa",
   "metadata": {},
   "source": [
    "## This jupyter Notebook is for the first home-work in the MLOPS Zoomcamp of 2023 Cohort"
   ]
  },
  {
   "cell_type": "code",
   "execution_count": 2,
   "id": "0b54fcaf",
   "metadata": {},
   "outputs": [],
   "source": [
    "import pandas as pd\n",
    "import pickle"
   ]
  },
  {
   "cell_type": "code",
   "execution_count": 3,
   "id": "2ae92e18",
   "metadata": {},
   "outputs": [],
   "source": [
    "import seaborn as sns\n",
    "import matplotlib.pyplot as plt\n",
    "from sklearn.feature_extraction import DictVectorizer\n",
    "from sklearn.linear_model import LinearRegression\n",
    "from sklearn.linear_model import Lasso\n",
    "from sklearn.linear_model import Ridge\n",
    "\n",
    "from sklearn.metrics import mean_squared_error\n",
    "import math"
   ]
  },
  {
   "cell_type": "markdown",
   "id": "53d43687",
   "metadata": {},
   "source": [
    "## First Question \n",
    "### We'll use the same NYC taxi dataset, but instead of \"Green Taxi Trip Records\", we'll use \"Yellow Taxi Trip Records\".\n",
    "\n",
    "- Download the data for January and February 2022. \n",
    "* We will use the February data as Validation set\n",
    "\n",
    "- Read the data for January. How many columns are there?\n"
   ]
  },
  {
   "cell_type": "code",
   "execution_count": 6,
   "id": "e81e9e06",
   "metadata": {},
   "outputs": [
    {
     "data": {
      "text/plain": [
       "19"
      ]
     },
     "execution_count": 6,
     "metadata": {},
     "output_type": "execute_result"
    }
   ],
   "source": [
    "df = pd.read_parquet('./data/yellow_tripdata_2022-01.parquet')\n",
    "df.shape[1]"
   ]
  },
  {
   "cell_type": "markdown",
   "id": "bb68f31f",
   "metadata": {},
   "source": [
    "## Second Question\n",
    " - Now let's compute the duration variable. It should contain the duration of a ride in minutes.\n",
    "\n",
    " - What's the standard deviation of the trips duration in January?\n",
    "\n"
   ]
  },
  {
   "cell_type": "code",
   "execution_count": 8,
   "id": "6ba9e954",
   "metadata": {},
   "outputs": [
    {
     "data": {
      "text/plain": [
       "46.44530513776802"
      ]
     },
     "execution_count": 8,
     "metadata": {},
     "output_type": "execute_result"
    }
   ],
   "source": [
    "\n",
    "old_length = len(df) # we will use this value for later question\n",
    "df['Duration'] = df.tpep_dropoff_datetime - df.tpep_pickup_datetime \n",
    "df['Duration'] = df.Duration.apply(lambda td: td.total_seconds() /60)\n",
    "df.Duration.std()"
   ]
  },
  {
   "cell_type": "markdown",
   "id": "10ad1b7d",
   "metadata": {},
   "source": [
    "## Third Question\n",
    " - Next, we need to check the distribution of the duration variable. There are some outliers. Let's remove them and keep only the records where the duration was between 1 and 60 minutes (inclusive).\n",
    "\n",
    " - What fraction of the records left after you dropped the outliers?\n"
   ]
  },
  {
   "cell_type": "markdown",
   "id": "dc503bb5",
   "metadata": {},
   "source": [
    "#### WE can use to options to find percentage of records after we dropped the outliers ( rides that took less than or equal to an hour and greater or eqaul than a minute\n",
    "* -> we can find the mean or we can divide the length of the dataframe after we dropped the outliers by thier lenght before "
   ]
  },
  {
   "cell_type": "code",
   "execution_count": 9,
   "id": "5800ae1b",
   "metadata": {},
   "outputs": [
    {
     "data": {
      "text/plain": [
       "0.9827547930522406"
      ]
     },
     "execution_count": 9,
     "metadata": {},
     "output_type": "execute_result"
    }
   ],
   "source": [
    "((df.Duration >= 1) & (df.Duration <=60)).mean()"
   ]
  },
  {
   "cell_type": "code",
   "execution_count": 19,
   "id": "42a5fd6a",
   "metadata": {},
   "outputs": [
    {
     "data": {
      "text/plain": [
       "98.27547930522405"
      ]
     },
     "execution_count": 19,
     "metadata": {},
     "output_type": "execute_result"
    }
   ],
   "source": [
    "\n",
    "df = df[(df.Duration >= 1) & (df.Duration <=60)]\n",
    "new_length = len(df)\n",
    "(new_length / old_length)* 100\n"
   ]
  },
  {
   "cell_type": "code",
   "execution_count": 31,
   "id": "8e91766b",
   "metadata": {},
   "outputs": [],
   "source": [
    "categorical = ['PULocationID', 'DOLocationID']\n",
    "numerical = ['trip_distance']\n",
    "df[categorical] = df[categorical].astype(str)"
   ]
  },
  {
   "cell_type": "code",
   "execution_count": 33,
   "id": "51d0c175",
   "metadata": {},
   "outputs": [],
   "source": [
    "#df.Duration.describe(percentiles=[0.95, 0.98, 0.99])"
   ]
  },
  {
   "cell_type": "code",
   "execution_count": 38,
   "id": "d2074609",
   "metadata": {},
   "outputs": [
    {
     "data": {
      "text/plain": [
       "7.001496179375642"
      ]
     },
     "execution_count": 38,
     "metadata": {},
     "output_type": "execute_result"
    }
   ],
   "source": [
    "train_dict = df[categorical + numerical].to_dict(orient = 'records')\n",
    "\n",
    "dv = DictVectorizer()\n",
    "x_train = dv.fit_transform(train_dict)\n",
    "\n",
    "target = 'Duration'\n",
    "y_train = df[target].values\n",
    "\n",
    "lr = LinearRegression()\n",
    "lr.fit(x_train, y_train)\n",
    "\n",
    "y_pred = lr.predict(x_train)\n",
    "mean_squared_error(y_train, y_pred, squared=False)\n"
   ]
  },
  {
   "cell_type": "markdown",
   "id": "9fa1b39d",
   "metadata": {},
   "source": [
    "## Fourth Question\n",
    "- Let's apply one-hot encoding to the pickup and dropoff location IDs. We'll use only these two features for our model.\n",
    "\n",
    "- Turn the dataframe into a list of dictionaries\n",
    "- Fit a dictionary vectorizer\n",
    "- Get a feature matrix from it\n",
    "- What's the dimensionality of this matrix (number of columns)?\n"
   ]
  },
  {
   "cell_type": "code",
   "execution_count": 35,
   "id": "d22be87a",
   "metadata": {},
   "outputs": [
    {
     "data": {
      "text/plain": [
       "515"
      ]
     },
     "execution_count": 35,
     "metadata": {},
     "output_type": "execute_result"
    }
   ],
   "source": [
    "# because we added additional columns above( Duration column) I have to deduct 1\n",
    "x_train.shape[1] -1 "
   ]
  },
  {
   "cell_type": "markdown",
   "id": "3ce35c06",
   "metadata": {},
   "source": [
    "## Fifth Question\n",
    "- Train a plain linear regression model with default parameters\n",
    "- Calculate the RMSE of the model on the training data\n",
    "- What's the RMSE on train?"
   ]
  },
  {
   "cell_type": "code",
   "execution_count": 37,
   "id": "6145301f",
   "metadata": {},
   "outputs": [
    {
     "data": {
      "text/plain": [
       "7.001496179375642"
      ]
     },
     "execution_count": 37,
     "metadata": {},
     "output_type": "execute_result"
    }
   ],
   "source": [
    "mean_squared_error(y_train, y_pred, squared=False)\n"
   ]
  },
  {
   "cell_type": "code",
   "execution_count": 39,
   "id": "b0a45b1d",
   "metadata": {},
   "outputs": [],
   "source": [
    "# sns.distplot(y_pred, label = 'prediction')\n",
    "# sns.distplot(y_train, label = 'actual')\n",
    "\n",
    "# plt.legend()"
   ]
  },
  {
   "cell_type": "code",
   "execution_count": 40,
   "id": "21eb0564",
   "metadata": {},
   "outputs": [],
   "source": [
    "def read_dataframe(filename):\n",
    "    df = pd.read_parquet(filename)\n",
    "\n",
    "    df['Duration'] = df.tpep_dropoff_datetime - df.tpep_pickup_datetime \n",
    "    df['Duration'] = df.Duration.apply(lambda td: td.total_seconds() /60)\n",
    "\n",
    "    df = df[(df.Duration >= 1) & (df.Duration <=60)]\n",
    "    \n",
    "    categorical = ['PULocationID', 'DOLocationID']\n",
    "    df[categorical] = df[categorical].astype(str)\n",
    "    \n",
    "    return df"
   ]
  },
  {
   "cell_type": "code",
   "execution_count": 41,
   "id": "9cac172c",
   "metadata": {},
   "outputs": [],
   "source": [
    "df_train = read_dataframe('./data/yellow_tripdata_2022-01.parquet')\n",
    "df_val = read_dataframe('./data/yellow_tripdata_2022-02.parquet')"
   ]
  },
  {
   "cell_type": "code",
   "execution_count": 42,
   "id": "3a16f616",
   "metadata": {},
   "outputs": [
    {
     "data": {
      "text/plain": [
       "(2421440, 2918187)"
      ]
     },
     "execution_count": 42,
     "metadata": {},
     "output_type": "execute_result"
    }
   ],
   "source": [
    "len(df_train), len(df_val)"
   ]
  },
  {
   "cell_type": "code",
   "execution_count": 43,
   "id": "7542ee6f",
   "metadata": {},
   "outputs": [],
   "source": [
    "df_train['PU_DO'] = df_train['PULocationID'] +'_'+ df_train['DOLocationID']\n",
    "df_val['PU_DO'] = df_val['PULocationID'] +'_'+ df_val['DOLocationID']"
   ]
  },
  {
   "cell_type": "code",
   "execution_count": 44,
   "id": "a76798f2",
   "metadata": {},
   "outputs": [],
   "source": [
    "categorical =['PULocationID', 'DOLocationID'] #['PU_DO']\n",
    "numerical = ['trip_distance']\n",
    "\n",
    "\n",
    "dv = DictVectorizer()\n",
    "\n",
    "train_dict = df_train[categorical + numerical].to_dict(orient = 'records')\n",
    "x_train = dv.fit_transform(train_dict)\n",
    "\n",
    "val_dict = df_val[categorical + numerical].to_dict(orient = 'records')\n",
    "x_val = dv.transform(val_dict)\n",
    "\n"
   ]
  },
  {
   "cell_type": "code",
   "execution_count": 45,
   "id": "fd0feecb",
   "metadata": {},
   "outputs": [],
   "source": [
    "target = 'Duration'\n",
    "\n",
    "y_train = df_train[target].values\n",
    "y_val = df_val[target].values\n"
   ]
  },
  {
   "cell_type": "markdown",
   "id": "0f4ad6a3",
   "metadata": {},
   "source": [
    "## Sixth Question\n",
    "\n",
    "- What's the RMSE on validation?\n"
   ]
  },
  {
   "cell_type": "code",
   "execution_count": 47,
   "id": "0dc40ef5",
   "metadata": {},
   "outputs": [
    {
     "data": {
      "text/plain": [
       "7.795498157775055"
      ]
     },
     "execution_count": 47,
     "metadata": {},
     "output_type": "execute_result"
    }
   ],
   "source": [
    "lr = LinearRegression()\n",
    "lr.fit(x_train, y_train)\n",
    "\n",
    "y_pred = lr.predict(x_val)\n",
    "\n",
    "mean_squared_error(y_val, y_pred, squared=False)\n"
   ]
  },
  {
   "cell_type": "code",
   "execution_count": null,
   "id": "e556161e",
   "metadata": {},
   "outputs": [],
   "source": [
    "  "
   ]
  },
  {
   "cell_type": "code",
   "execution_count": null,
   "id": "ee96735e",
   "metadata": {},
   "outputs": [],
   "source": []
  },
  {
   "cell_type": "markdown",
   "id": "364feae9",
   "metadata": {},
   "source": [
    "### if we had used Ridge Regression the RMSE would have been a little bit higher \n",
    "* Linear Regression gives as a better ( lower) value"
   ]
  },
  {
   "cell_type": "code",
   "execution_count": 48,
   "id": "65df7cb1",
   "metadata": {},
   "outputs": [
    {
     "data": {
      "text/plain": [
       "7.8354868868628165"
      ]
     },
     "execution_count": 48,
     "metadata": {},
     "output_type": "execute_result"
    }
   ],
   "source": [
    "lr = Ridge()\n",
    "lr.fit(x_train, y_train)\n",
    "\n",
    "y_pred = lr.predict(x_val)\n",
    "\n",
    "mean_squared_error(y_val, y_pred, squared=False)\n"
   ]
  },
  {
   "cell_type": "code",
   "execution_count": null,
   "id": "8f55c4f7",
   "metadata": {},
   "outputs": [],
   "source": []
  }
 ],
 "metadata": {
  "kernelspec": {
   "display_name": "Python 3 (ipykernel)",
   "language": "python",
   "name": "python3"
  },
  "language_info": {
   "codemirror_mode": {
    "name": "ipython",
    "version": 3
   },
   "file_extension": ".py",
   "mimetype": "text/x-python",
   "name": "python",
   "nbconvert_exporter": "python",
   "pygments_lexer": "ipython3",
   "version": "3.10.5"
  }
 },
 "nbformat": 4,
 "nbformat_minor": 5
}
